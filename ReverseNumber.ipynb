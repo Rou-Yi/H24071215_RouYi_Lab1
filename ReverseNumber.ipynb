{
 "cells": [
  {
   "cell_type": "code",
   "execution_count": 31,
   "id": "fa998fcd",
   "metadata": {},
   "outputs": [],
   "source": [
    "# 定義函數 reverse\n",
    "def reverse(number):\n",
    "    output = [] # output list\n",
    "    \n",
    "    # 如果輸入為負數，output加入負號且將數字轉正\n",
    "    if number < 0:\n",
    "        output.append('-')\n",
    "        number = abs(number)\n",
    "\n",
    "    while len(str(number)) > 1:  # 當 number 長度剩下 1 時停止迴圈\n",
    "        output.append(number%10) # 每次都將最後一位數放進 output\n",
    "        number = number//10      # 再移除掉最後一位數\n",
    "\n",
    "    output.append(number%10)     # 把最後一個數加進去 list\n",
    "\n",
    "    print(''.join([str(item) for item in output])) # 印出結果"
   ]
  },
  {
   "cell_type": "code",
   "execution_count": 39,
   "id": "762a5c7f",
   "metadata": {},
   "outputs": [
    {
     "name": "stdout",
     "output_type": "stream",
     "text": [
      "Enter an integer:1234567890\n",
      "0987654321\n"
     ]
    }
   ],
   "source": [
    "# 輸入一組數字\n",
    "num = int(input('Enter an integer:'))\n",
    "\n",
    "# 執行 reverse 函數\n",
    "reverse(num)"
   ]
  },
  {
   "cell_type": "code",
   "execution_count": null,
   "id": "4eb23543",
   "metadata": {},
   "outputs": [],
   "source": []
  },
  {
   "cell_type": "code",
   "execution_count": null,
   "id": "4b8e86e6",
   "metadata": {},
   "outputs": [],
   "source": []
  },
  {
   "cell_type": "code",
   "execution_count": null,
   "id": "cb7220c3",
   "metadata": {},
   "outputs": [],
   "source": []
  },
  {
   "cell_type": "code",
   "execution_count": null,
   "id": "bf389416",
   "metadata": {},
   "outputs": [],
   "source": []
  }
 ],
 "metadata": {
  "kernelspec": {
   "display_name": "Python 3",
   "language": "python",
   "name": "python3"
  },
  "language_info": {
   "codemirror_mode": {
    "name": "ipython",
    "version": 3
   },
   "file_extension": ".py",
   "mimetype": "text/x-python",
   "name": "python",
   "nbconvert_exporter": "python",
   "pygments_lexer": "ipython3",
   "version": "3.8.8"
  }
 },
 "nbformat": 4,
 "nbformat_minor": 5
}
