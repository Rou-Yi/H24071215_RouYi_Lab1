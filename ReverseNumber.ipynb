{
 "cells": [
  {
   "cell_type": "code",
   "execution_count": 1,
   "id": "c4025d2c",
   "metadata": {},
   "outputs": [],
   "source": [
    "# 定義函數 reverse\n",
    "def reverse(number):\n",
    "    # 如果輸入為負數，則先印出負號並將數字轉為正數\n",
    "    if number < 0:\n",
    "        print('-', end='')\n",
    "        number = abs(number)\n",
    "    \n",
    "    # 依照 number 的長度跑迴圈 \n",
    "    for i in range(len(str(number))):\n",
    "        print(number%10, end='') # 依序印出最後一位數\n",
    "        number = number//10      # 再移除掉最後一位數"
   ]
  },
  {
   "cell_type": "markdown",
   "id": "17bdc0ee",
   "metadata": {},
   "source": [
    "### Sample Run 1"
   ]
  },
  {
   "cell_type": "code",
   "execution_count": 2,
   "id": "dafe3df7",
   "metadata": {},
   "outputs": [
    {
     "name": "stdout",
     "output_type": "stream",
     "text": [
      "Enter an integer:543\n",
      "345"
     ]
    }
   ],
   "source": [
    "# 輸入一組數字\n",
    "num = int(input('Enter an integer:'))\n",
    "\n",
    "# 執行 reverse 函數\n",
    "reverse(num)"
   ]
  },
  {
   "cell_type": "markdown",
   "id": "addab491",
   "metadata": {},
   "source": [
    "### Sample Run 2"
   ]
  },
  {
   "cell_type": "code",
   "execution_count": 3,
   "id": "762a5c7f",
   "metadata": {
    "scrolled": true
   },
   "outputs": [
    {
     "name": "stdout",
     "output_type": "stream",
     "text": [
      "Enter an integer:1234567890\n",
      "0987654321"
     ]
    }
   ],
   "source": [
    "# 輸入一組數字\n",
    "num = int(input('Enter an integer:'))\n",
    "\n",
    "# 執行 reverse 函數\n",
    "reverse(num)"
   ]
  },
  {
   "cell_type": "markdown",
   "id": "d673fc0b",
   "metadata": {},
   "source": [
    "### Sample Run 3"
   ]
  },
  {
   "cell_type": "code",
   "execution_count": 4,
   "id": "87b3a297",
   "metadata": {},
   "outputs": [
    {
     "name": "stdout",
     "output_type": "stream",
     "text": [
      "Enter an integer:-74183\n",
      "-38147"
     ]
    }
   ],
   "source": [
    "# 輸入一組數字\n",
    "num = int(input('Enter an integer:'))\n",
    "\n",
    "# 執行 reverse 函數\n",
    "reverse(num)"
   ]
  }
 ],
 "metadata": {
  "kernelspec": {
   "display_name": "Python 3",
   "language": "python",
   "name": "python3"
  },
  "language_info": {
   "codemirror_mode": {
    "name": "ipython",
    "version": 3
   },
   "file_extension": ".py",
   "mimetype": "text/x-python",
   "name": "python",
   "nbconvert_exporter": "python",
   "pygments_lexer": "ipython3",
   "version": "3.8.8"
  }
 },
 "nbformat": 4,
 "nbformat_minor": 5
}
