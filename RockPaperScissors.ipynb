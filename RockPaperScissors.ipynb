{
 "cells": [
  {
   "cell_type": "code",
   "execution_count": 12,
   "id": "ad9c4267",
   "metadata": {},
   "outputs": [
    {
     "name": "stdout",
     "output_type": "stream",
     "text": [
      "Welcome to ROCK, PAPER, SCISSORS game!\n",
      "Enter your move: (r)ock (p)aper (s)cissors r\n",
      "ROCK versus...\n",
      "ROCK\n",
      "It is a tie!\n",
      "Enter your move: (r)ock (p)aper (s)cissors r\n",
      "ROCK versus...\n",
      "ROCK\n",
      "It is a tie!\n",
      "Enter your move: (r)ock (p)aper (s)cissors r\n",
      "ROCK versus...\n",
      "SCISSORS\n",
      "You win!\n",
      "You have 2 ties and 0 losses before your first win.\n"
     ]
    }
   ],
   "source": [
    "# 輸贏記數歸零\n",
    "loss_num, tie_num, win_num = 0, 0, 0\n",
    "\n",
    "# 開場語\n",
    "print('Welcome to ROCK, PAPER, SCISSORS game!') \n",
    "\n",
    "while True:\n",
    "    # 玩家輸入\n",
    "    player = input('Enter your move: (r)ock (p)aper (s)cissors ')\n",
    "    \n",
    "    \n",
    "    # print 玩家出拳狀態\n",
    "    if player == 'r':\n",
    "        print('ROCK versus...')\n",
    "    \n",
    "    elif player == 'p':\n",
    "        print('PAPER versus...')\n",
    "    \n",
    "    elif player == 's':\n",
    "        print('SCISSORS versus...')\n",
    "\n",
    "        \n",
    "    # 電腦隨機出拳\n",
    "    import random\n",
    "    computer = random.choice(['r', 'p', 's'])\n",
    "    \n",
    "    \n",
    "    # print 電腦出拳狀態 & 轉換\n",
    "    if computer == 'r':\n",
    "        print('ROCK')\n",
    "    \n",
    "    elif computer == 'p':\n",
    "        print('PAPER')\n",
    "    \n",
    "    elif computer == 's':\n",
    "        print('SCISSORS')\n",
    "    \n",
    "    \n",
    "    # 玩家與電腦輸贏判別與結果累計\n",
    "    if player == computer:  ## 平手\n",
    "        print('It is a tie!')\n",
    "        tie_num += 1\n",
    "    \n",
    "    elif ((player=='r')&(computer=='p')) or ((player=='p')&(computer=='s')) or ((player=='s')&(computer=='r')): ## 玩家輸了\n",
    "        print('You lose!')\n",
    "        loss_num += 1\n",
    "    \n",
    "    elif ((player=='p')&(computer=='r')) or ((player=='s')&(computer=='p')) or ((player=='r')&(computer=='s')): ## 玩家贏了\n",
    "        print('You win!')\n",
    "        win_num += 1\n",
    "\n",
    "        \n",
    "    # 判斷遊戲是否結束(贏了一場就結算) & print 結語\n",
    "    if win_num == 1:\n",
    "        print('You have', tie_num, 'ties and', loss_num, 'losses before your first win.')\n",
    "        break ## 結束遊戲\n",
    "    else:\n",
    "        continue"
   ]
  }
 ],
 "metadata": {
  "kernelspec": {
   "display_name": "Python 3",
   "language": "python",
   "name": "python3"
  },
  "language_info": {
   "codemirror_mode": {
    "name": "ipython",
    "version": 3
   },
   "file_extension": ".py",
   "mimetype": "text/x-python",
   "name": "python",
   "nbconvert_exporter": "python",
   "pygments_lexer": "ipython3",
   "version": "3.8.8"
  }
 },
 "nbformat": 4,
 "nbformat_minor": 5
}
