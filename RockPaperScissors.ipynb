{
 "cells": [
  {
   "cell_type": "code",
   "execution_count": 23,
   "id": "6887a181",
   "metadata": {},
   "outputs": [
    {
     "name": "stdout",
     "output_type": "stream",
     "text": [
      "Welcome to ROCK, PAPER, SCISSORS game!\n",
      "Enter your move: (r)ock (p)aper (s)cissors r\n",
      "ROCK versus...\n",
      "ROCK\n",
      "It is a tie!\n",
      "Enter your move: (r)ock (p)aper (s)cissors r\n",
      "ROCK versus...\n",
      "PAPER\n",
      "You lose!\n",
      "Enter your move: (r)ock (p)aper (s)cissors r\n",
      "ROCK versus...\n",
      "PAPER\n",
      "You lose!\n",
      "Enter your move: (r)ock (p)aper (s)cissors r\n",
      "ROCK versus...\n",
      "PAPER\n",
      "You lose!\n",
      "Enter your move: (r)ock (p)aper (s)cissors r\n",
      "ROCK versus...\n",
      "PAPER\n",
      "You lose!\n",
      "Enter your move: (r)ock (p)aper (s)cissors r\n",
      "ROCK versus...\n",
      "PAPER\n",
      "You lose!\n",
      "Enter your move: (r)ock (p)aper (s)cissors r\n",
      "ROCK versus...\n",
      "SCISSORS\n",
      "You win!\n",
      "You have 1 ties and 5 losses before your first win.\n"
     ]
    }
   ],
   "source": [
    "loss_num, tie_num, win_num = 0, 0, 0\n",
    "# 開場語\n",
    "print('Welcome to ROCK, PAPER, SCISSORS game!') \n",
    "\n",
    "while True:\n",
    "    # 玩家輸入\n",
    "    player_input = input('Enter your move: (r)ock (p)aper (s)cissors ')\n",
    "    \n",
    "    ## 轉換輸入為 [石頭 = 1, 布 = 2, 剪刀 = 3]\n",
    "    if player_input == 'r':\n",
    "        print('ROCK versus...')\n",
    "        player = 1\n",
    "    elif player_input == 'p':\n",
    "        print('PAPER versus...')\n",
    "        player = 2\n",
    "    elif player_input == 's':\n",
    "        print('SCISSORS versus...')\n",
    "        player = 3\n",
    "\n",
    "    # 電腦隨機出拳 [石頭 = 1, 布 = 2, 剪刀 = 3]\n",
    "    import random\n",
    "    computer = random.randint(1, 3)\n",
    "    if computer == 1:\n",
    "        print('ROCK')\n",
    "    elif computer == 2:\n",
    "        print('PAPER')\n",
    "    elif computer == 3:\n",
    "        print('SCISSORS')\n",
    "\n",
    "    # 玩家與電腦輸贏判別與結果累計\n",
    "    if player == computer:    ## 平手\n",
    "        print('It is a tie!')\n",
    "        tie_num += 1\n",
    "    elif (player == computer-1) or (player == computer+2):  ## 玩家輸了\n",
    "        print('You lose!')\n",
    "        loss_num += 1\n",
    "    elif (player == computer+1) or (player == computer-2) : ## 玩家贏了\n",
    "        print('You win!')\n",
    "        win_num += 1\n",
    "\n",
    "    # 判斷遊戲是否結束 (贏了一場就結算)\n",
    "    if win_num == 1:\n",
    "        print('You have', tie_num, 'ties and', loss_num, 'losses before your first win.')\n",
    "        break\n",
    "    else:\n",
    "        continue"
   ]
  }
 ],
 "metadata": {
  "kernelspec": {
   "display_name": "Python 3",
   "language": "python",
   "name": "python3"
  },
  "language_info": {
   "codemirror_mode": {
    "name": "ipython",
    "version": 3
   },
   "file_extension": ".py",
   "mimetype": "text/x-python",
   "name": "python",
   "nbconvert_exporter": "python",
   "pygments_lexer": "ipython3",
   "version": "3.8.8"
  }
 },
 "nbformat": 4,
 "nbformat_minor": 5
}
