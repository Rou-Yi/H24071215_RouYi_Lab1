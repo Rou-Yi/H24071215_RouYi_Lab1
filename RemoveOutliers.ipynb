{
 "cells": [
  {
   "cell_type": "code",
   "execution_count": 1,
   "id": "e64bd957",
   "metadata": {},
   "outputs": [],
   "source": [
    "def remove_outliers(remove_num):\n",
    "    num_list = []\n",
    "    while True:\n",
    "        # 使用者輸入\n",
    "        user_input = input('Enter a value (q or Q to quit): ')\n",
    "        \n",
    "        # 使用者輸入 q 或 Q , 且 輸入數量 > 移除數量 就可以停止迴圈\n",
    "        if user_input.lower() == 'q':   \n",
    "            if len(num_list) >= int(remove_num)*2: # 前後都要移除所以乘上 2\n",
    "                break\n",
    "                \n",
    "            # 防呆一: 輸入數量不足移除數量，要求使用者繼續增加數字\n",
    "            else: \n",
    "                lack_num = int(remove_num)*2 - len(num_list) # 計算還缺少幾個數字\n",
    "                print('The number of values is not enough. Please enter at least', lack_num, 'more number(s).')\n",
    "                continue  # 回到 user_input 輸入\n",
    "        \n",
    "        # 使用者輸入為數字則加入 num_list 儲存，過濾非數字使用 float()\n",
    "        # try 部分在 float(user_input) 產生 error 時會啟動防呆二\n",
    "        else:\n",
    "            try:\n",
    "                user_input = float(user_input) \n",
    "                \n",
    "                # 去掉整數的小數位 (為了呈現好看用)\n",
    "                if user_input%1 == 0:\n",
    "                    user_input = int(user_input) \n",
    "                    \n",
    "                num_list.append(user_input)\n",
    "                \n",
    "            # 防呆二: 輸入為非數字，則讓使用者重新輸入\n",
    "            except ValueError: \n",
    "                print('Input error. Please enter a number or enter q or Q to quit.')\n",
    "                continue  # 回到 user_input 輸入\n",
    "\n",
    "    ########################################################\n",
    "    \n",
    "    # 印出使用者輸入的數字\n",
    "    print('The original data:', num_list)\n",
    "    \n",
    "    # 處理要移除數字，放進 outlier list\n",
    "    outliers = []\n",
    "    for i in range(remove_num):\n",
    "        maximun = max(num_list)\n",
    "        minimun = min(num_list)\n",
    "        num_list.remove(maximun)\n",
    "        num_list.remove(minimun)\n",
    "        outliers.extend([maximun, minimun])\n",
    "        \n",
    "    # 印出移除 outlier 後剩下的數字\n",
    "    print('The data with the outliers removed:', sorted(num_list))\n",
    "    \n",
    "    # 印出 outlier\n",
    "    print('The outliers:', sorted(outliers))"
   ]
  },
  {
   "cell_type": "code",
   "execution_count": 2,
   "id": "8c4c8706",
   "metadata": {
    "scrolled": true
   },
   "outputs": [
    {
     "name": "stdout",
     "output_type": "stream",
     "text": [
      "Enter the number of smallest and largest values to remove: 2\n",
      "Enter a value (q or Q to quit): 1001\n",
      "Enter a value (q or Q to quit): 2001\n",
      "Enter a value (q or Q to quit): 1\n",
      "Enter a value (q or Q to quit): q\n",
      "The number of values is not enough. Please enter at least 1 more number(s).\n",
      "Enter a value (q or Q to quit): 2\n",
      "Enter a value (q or Q to quit): -1001\n",
      "Enter a value (q or Q to quit): -20\n",
      "Enter a value (q or Q to quit): 5\n",
      "Enter a value (q or Q to quit): 4\n",
      "Enter a value (q or Q to quit): 3\n",
      "Enter a value (q or Q to quit): 33\n",
      "Enter a value (q or Q to quit): Q\n",
      "The original data: [1001, 2001, 1, 2, -1001, -20, 5, 4, 3, 33]\n",
      "The data with the outliers removed: [1, 2, 3, 4, 5, 33]\n",
      "The outliers: [-1001, -20, 1001, 2001]\n"
     ]
    }
   ],
   "source": [
    "# 輸入移除數量(組數)\n",
    "# 若 input 為數字則 break 繼續往下執行，若 input 為非數字則要求重新輸入\n",
    "while True:\n",
    "    try: \n",
    "        num = int(input('Enter the number of smallest and largest values to remove: '))\n",
    "        if num > 0:\n",
    "            break\n",
    "    except ValueError:\n",
    "        pass  \n",
    "    \n",
    "    print('Input error. Please enter a non-negative integer.')\n",
    "    \n",
    "    \n",
    "# 執行 remove_outliers\n",
    "remove_outliers(num)"
   ]
  }
 ],
 "metadata": {
  "kernelspec": {
   "display_name": "Python 3",
   "language": "python",
   "name": "python3"
  },
  "language_info": {
   "codemirror_mode": {
    "name": "ipython",
    "version": 3
   },
   "file_extension": ".py",
   "mimetype": "text/x-python",
   "name": "python",
   "nbconvert_exporter": "python",
   "pygments_lexer": "ipython3",
   "version": "3.8.8"
  }
 },
 "nbformat": 4,
 "nbformat_minor": 5
}
