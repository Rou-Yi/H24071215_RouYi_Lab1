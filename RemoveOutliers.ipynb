{
 "cells": [
  {
   "cell_type": "code",
   "execution_count": 1,
   "id": "e64bd957",
   "metadata": {},
   "outputs": [],
   "source": [
    "def remove_outliers(remove_num):\n",
    "    num_list = []\n",
    "    while True:\n",
    "        # 使用者輸入\n",
    "        user_input = input('Enter a value (q or Q to quit): ')\n",
    "        \n",
    "        # 使用者輸入 q 或 Q , 且 輸入數量 > 移除數量 就可以停止迴圈\n",
    "        if user_input.lower() == 'q':   \n",
    "            if len(num_list) >= int(remove_num)*2: # 前後都要移除所以乘上 2\n",
    "                break\n",
    "            else:\n",
    "                lack_num = int(remove_num)*2 - len(num_list) # 計算還缺少幾個數字\n",
    "                print('The number of values is not enough. Please enter at least', lack_num, 'more number(s).')\n",
    "                continue  # 回到 user_input 輸入\n",
    "        \n",
    "        else:\n",
    "            try:# 輸入為數字則加入 list 儲存\n",
    "                # 若 float 執行失敗會跳到下面 except ValueError:\n",
    "                user_input = float(user_input) \n",
    "                \n",
    "                if user_input%1 == 0:\n",
    "                    user_input = int(user_input) # 去掉整數的小數位\n",
    "                    \n",
    "                num_list.append(user_input) # 加入 list 儲存\n",
    "                \n",
    "            except ValueError: # 輸入為非數字(即 try 部分在 float(user_input) 產生 error 時)，則讓使用者重新輸入\n",
    "                print('Input error. Please enter a number or enter q or Q to quit.')\n",
    "                continue  # 回到 user_input 輸入\n",
    "\n",
    "    # 印出原始數字 list\n",
    "    print('The original data:', num_list)\n",
    "    \n",
    "    # 處理要移除數字，放進 outlier list\n",
    "    outliers = []\n",
    "    for i in range(remove_num):\n",
    "        maximun = max(num_list)\n",
    "        minimun = min(num_list)\n",
    "        num_list.remove(maximun)\n",
    "        num_list.remove(minimun)\n",
    "        outliers.extend([maximun, minimun])\n",
    "        \n",
    "    # 印出移除 outlier 後的數字 list\n",
    "    print('The data with the outliers removed:', sorted(num_list))\n",
    "    \n",
    "    # 印出 outlier\n",
    "    print('The outliers:', sorted(outliers))"
   ]
  },
  {
   "cell_type": "code",
   "execution_count": 2,
   "id": "8c4c8706",
   "metadata": {
    "scrolled": true
   },
   "outputs": [
    {
     "name": "stdout",
     "output_type": "stream",
     "text": [
      "Enter the number of smallest and largest values to remove: 2\n",
      "Enter a value (q or Q to quit): -101\n",
      "Enter a value (q or Q to quit): 123\n",
      "Enter a value (q or Q to quit): 1\n",
      "Enter a value (q or Q to quit): 2\n",
      "Enter a value (q or Q to quit): 5\n",
      "Enter a value (q or Q to quit): 91\n",
      "Enter a value (q or Q to quit): -55\n",
      "Enter a value (q or Q to quit): q\n",
      "The original data: [-101, 123, 1, 2, 5, 91, -55]\n",
      "The data with the outliers removed: [1, 2, 5]\n",
      "The outliers: [-101, -55, 91, 123]\n"
     ]
    }
   ],
   "source": [
    "# 輸入移除數量(組數)\n",
    "# 若 input 為數字則 break 繼續往下執行，若 input 為非數字則重新輸入\n",
    "while True:\n",
    "    try: \n",
    "        num = int(input('Enter the number of smallest and largest values to remove: '))\n",
    "        if num > 0:\n",
    "            break\n",
    "    except ValueError:\n",
    "        pass  \n",
    "    \n",
    "    print('Input error. Please enter a non-negative integer.')\n",
    "    \n",
    "# 執行 remove_outliers\n",
    "remove_outliers(num)"
   ]
  }
 ],
 "metadata": {
  "kernelspec": {
   "display_name": "Python 3",
   "language": "python",
   "name": "python3"
  },
  "language_info": {
   "codemirror_mode": {
    "name": "ipython",
    "version": 3
   },
   "file_extension": ".py",
   "mimetype": "text/x-python",
   "name": "python",
   "nbconvert_exporter": "python",
   "pygments_lexer": "ipython3",
   "version": "3.8.8"
  }
 },
 "nbformat": 4,
 "nbformat_minor": 5
}
