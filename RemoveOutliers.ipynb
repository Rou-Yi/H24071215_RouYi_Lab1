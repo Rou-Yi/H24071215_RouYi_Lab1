{
 "cells": [
  {
   "cell_type": "code",
   "execution_count": 26,
   "id": "e64bd957",
   "metadata": {},
   "outputs": [],
   "source": [
    "def remove_outliers(remove_num):\n",
    "    num_list = []\n",
    "    while True:\n",
    "        # 使用者輸入\n",
    "        user_input = input('Enter a value (q or Q to quit): ')\n",
    "        \n",
    "        if user_input.lower() == 'q':   \n",
    "            # 使用者輸入 q 或 Q , 且 輸入數量 > 移除數量 就可以停止迴圈\n",
    "            if len(num_list) >= int(remove_num)*2: # 前後都要移除所以乘上 2\n",
    "                break\n",
    "            else:\n",
    "                lack_num = int(remove_num)*2 - len(num_list) # 還缺少幾個數字\n",
    "                print('The number of values is not enough. Please enter at least', lack_num, 'more number(s).')\n",
    "                continue\n",
    "        else:\n",
    "            try: # 輸入為數字則加入 list 儲存\n",
    "                num_list.append(int(user_input)) # 加入 list 儲存\n",
    "            \n",
    "            except: # 輸入非數字則讓使用者重新輸入\n",
    "                print('Input error. Please re-enter a number.')\n",
    "                continue\n",
    "\n",
    "    # 印出原始數字 list\n",
    "    print('The original data:', num_list)\n",
    "    \n",
    "    # 處理要移除數字，放進 outlier list\n",
    "    outliers = []\n",
    "    for i in range(int(remove_num)):\n",
    "        maximun = max(num_list)\n",
    "        minimun = min(num_list)\n",
    "        num_list.remove(maximun)\n",
    "        num_list.remove(minimun)\n",
    "        outliers.extend([maximun, minimun])\n",
    "        \n",
    "    # 印出移除 outlier 後的數字 list\n",
    "    print('The data with the outliers removed:', sorted(num_list))\n",
    "    \n",
    "    # 印出 outlier\n",
    "    print('The outliers:', sorted(outliers))"
   ]
  },
  {
   "cell_type": "code",
   "execution_count": 32,
   "id": "8c4c8706",
   "metadata": {},
   "outputs": [
    {
     "name": "stdout",
     "output_type": "stream",
     "text": [
      "Enter the number of smallest and largest values to remove: 2\n",
      "Enter a value (q or Q to quit): 1\n",
      "Enter a value (q or Q to quit): 2\n",
      "Enter a value (q or Q to quit): 3\n",
      "Enter a value (q or Q to quit): q\n",
      "The number of values is not enough. Please enter at least 1 more numbers.\n",
      "Enter a value (q or Q to quit): 5\n",
      "Enter a value (q or Q to quit): q\n",
      "The original data: [1, 2, 3, 5]\n",
      "The data with the outliers removed: []\n",
      "The outliers: [1, 2, 3, 5]\n"
     ]
    }
   ],
   "source": [
    "# 輸入數字\n",
    "num = input('Enter the number of smallest and largest values to remove: ')\n",
    "\n",
    "# 執行 remove_outliers\n",
    "remove_outliers(num)"
   ]
  },
  {
   "cell_type": "code",
   "execution_count": null,
   "id": "361041a3",
   "metadata": {},
   "outputs": [],
   "source": []
  }
 ],
 "metadata": {
  "kernelspec": {
   "display_name": "Python 3",
   "language": "python",
   "name": "python3"
  },
  "language_info": {
   "codemirror_mode": {
    "name": "ipython",
    "version": 3
   },
   "file_extension": ".py",
   "mimetype": "text/x-python",
   "name": "python",
   "nbconvert_exporter": "python",
   "pygments_lexer": "ipython3",
   "version": "3.8.8"
  }
 },
 "nbformat": 4,
 "nbformat_minor": 5
}
